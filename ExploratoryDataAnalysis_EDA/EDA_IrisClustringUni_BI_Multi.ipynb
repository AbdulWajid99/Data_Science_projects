{
 "cells": [
  {
   "cell_type": "code",
   "execution_count": 1,
   "source": [
    "import pandas as pd\r\n",
    "import numpy as np\r\n",
    "import matplotlib.pyplot as plt"
   ],
   "outputs": [],
   "metadata": {}
  },
  {
   "cell_type": "code",
   "execution_count": 2,
   "source": [
    "irisDataset = pd.read_csv(\"E:\\Data_Scientist\\Skill_Share(DataScienceCourse)\\Datasets\\Iris_dataset_28.csv\")\r\n",
    "irisDataset.head()"
   ],
   "outputs": [
    {
     "output_type": "execute_result",
     "data": {
      "text/plain": [
       "   Id  SepalLengthCm  SepalWidthCm  PetalLengthCm  PetalWidthCm      Species\n",
       "0   1            5.1           3.5            1.4           0.2  Iris-setosa\n",
       "1   2            4.9           3.0            1.4           0.2  Iris-setosa\n",
       "2   3            4.7           3.2            1.3           0.2  Iris-setosa\n",
       "3   4            4.6           3.1            1.5           0.2  Iris-setosa\n",
       "4   5            5.0           3.6            1.4           0.2  Iris-setosa"
      ],
      "text/html": [
       "<div>\n",
       "<style scoped>\n",
       "    .dataframe tbody tr th:only-of-type {\n",
       "        vertical-align: middle;\n",
       "    }\n",
       "\n",
       "    .dataframe tbody tr th {\n",
       "        vertical-align: top;\n",
       "    }\n",
       "\n",
       "    .dataframe thead th {\n",
       "        text-align: right;\n",
       "    }\n",
       "</style>\n",
       "<table border=\"1\" class=\"dataframe\">\n",
       "  <thead>\n",
       "    <tr style=\"text-align: right;\">\n",
       "      <th></th>\n",
       "      <th>Id</th>\n",
       "      <th>SepalLengthCm</th>\n",
       "      <th>SepalWidthCm</th>\n",
       "      <th>PetalLengthCm</th>\n",
       "      <th>PetalWidthCm</th>\n",
       "      <th>Species</th>\n",
       "    </tr>\n",
       "  </thead>\n",
       "  <tbody>\n",
       "    <tr>\n",
       "      <th>0</th>\n",
       "      <td>1</td>\n",
       "      <td>5.1</td>\n",
       "      <td>3.5</td>\n",
       "      <td>1.4</td>\n",
       "      <td>0.2</td>\n",
       "      <td>Iris-setosa</td>\n",
       "    </tr>\n",
       "    <tr>\n",
       "      <th>1</th>\n",
       "      <td>2</td>\n",
       "      <td>4.9</td>\n",
       "      <td>3.0</td>\n",
       "      <td>1.4</td>\n",
       "      <td>0.2</td>\n",
       "      <td>Iris-setosa</td>\n",
       "    </tr>\n",
       "    <tr>\n",
       "      <th>2</th>\n",
       "      <td>3</td>\n",
       "      <td>4.7</td>\n",
       "      <td>3.2</td>\n",
       "      <td>1.3</td>\n",
       "      <td>0.2</td>\n",
       "      <td>Iris-setosa</td>\n",
       "    </tr>\n",
       "    <tr>\n",
       "      <th>3</th>\n",
       "      <td>4</td>\n",
       "      <td>4.6</td>\n",
       "      <td>3.1</td>\n",
       "      <td>1.5</td>\n",
       "      <td>0.2</td>\n",
       "      <td>Iris-setosa</td>\n",
       "    </tr>\n",
       "    <tr>\n",
       "      <th>4</th>\n",
       "      <td>5</td>\n",
       "      <td>5.0</td>\n",
       "      <td>3.6</td>\n",
       "      <td>1.4</td>\n",
       "      <td>0.2</td>\n",
       "      <td>Iris-setosa</td>\n",
       "    </tr>\n",
       "  </tbody>\n",
       "</table>\n",
       "</div>"
      ]
     },
     "metadata": {},
     "execution_count": 2
    }
   ],
   "metadata": {}
  },
  {
   "cell_type": "code",
   "execution_count": 3,
   "source": [
    "irisDataset.shape"
   ],
   "outputs": [
    {
     "output_type": "execute_result",
     "data": {
      "text/plain": [
       "(150, 6)"
      ]
     },
     "metadata": {},
     "execution_count": 3
    }
   ],
   "metadata": {}
  },
  {
   "cell_type": "code",
   "execution_count": 4,
   "source": [
    "irisDataset1 = irisDataset.drop(columns = ['Id'],axis= 1)"
   ],
   "outputs": [],
   "metadata": {}
  },
  {
   "cell_type": "code",
   "execution_count": 5,
   "source": [
    "#since its K-means i.e unsupervised learning wee remove species column\r\n",
    "irisDataset1= irisDataset1.drop(columns = ['Species'],axis= 1)"
   ],
   "outputs": [],
   "metadata": {}
  },
  {
   "cell_type": "code",
   "execution_count": 5,
   "source": [
    "irisDataset1.head()"
   ],
   "outputs": [
    {
     "output_type": "execute_result",
     "data": {
      "text/plain": [
       "   SepalLengthCm  SepalWidthCm  PetalLengthCm  PetalWidthCm      Species\n",
       "0            5.1           3.5            1.4           0.2  Iris-setosa\n",
       "1            4.9           3.0            1.4           0.2  Iris-setosa\n",
       "2            4.7           3.2            1.3           0.2  Iris-setosa\n",
       "3            4.6           3.1            1.5           0.2  Iris-setosa\n",
       "4            5.0           3.6            1.4           0.2  Iris-setosa"
      ],
      "text/html": [
       "<div>\n",
       "<style scoped>\n",
       "    .dataframe tbody tr th:only-of-type {\n",
       "        vertical-align: middle;\n",
       "    }\n",
       "\n",
       "    .dataframe tbody tr th {\n",
       "        vertical-align: top;\n",
       "    }\n",
       "\n",
       "    .dataframe thead th {\n",
       "        text-align: right;\n",
       "    }\n",
       "</style>\n",
       "<table border=\"1\" class=\"dataframe\">\n",
       "  <thead>\n",
       "    <tr style=\"text-align: right;\">\n",
       "      <th></th>\n",
       "      <th>SepalLengthCm</th>\n",
       "      <th>SepalWidthCm</th>\n",
       "      <th>PetalLengthCm</th>\n",
       "      <th>PetalWidthCm</th>\n",
       "      <th>Species</th>\n",
       "    </tr>\n",
       "  </thead>\n",
       "  <tbody>\n",
       "    <tr>\n",
       "      <th>0</th>\n",
       "      <td>5.1</td>\n",
       "      <td>3.5</td>\n",
       "      <td>1.4</td>\n",
       "      <td>0.2</td>\n",
       "      <td>Iris-setosa</td>\n",
       "    </tr>\n",
       "    <tr>\n",
       "      <th>1</th>\n",
       "      <td>4.9</td>\n",
       "      <td>3.0</td>\n",
       "      <td>1.4</td>\n",
       "      <td>0.2</td>\n",
       "      <td>Iris-setosa</td>\n",
       "    </tr>\n",
       "    <tr>\n",
       "      <th>2</th>\n",
       "      <td>4.7</td>\n",
       "      <td>3.2</td>\n",
       "      <td>1.3</td>\n",
       "      <td>0.2</td>\n",
       "      <td>Iris-setosa</td>\n",
       "    </tr>\n",
       "    <tr>\n",
       "      <th>3</th>\n",
       "      <td>4.6</td>\n",
       "      <td>3.1</td>\n",
       "      <td>1.5</td>\n",
       "      <td>0.2</td>\n",
       "      <td>Iris-setosa</td>\n",
       "    </tr>\n",
       "    <tr>\n",
       "      <th>4</th>\n",
       "      <td>5.0</td>\n",
       "      <td>3.6</td>\n",
       "      <td>1.4</td>\n",
       "      <td>0.2</td>\n",
       "      <td>Iris-setosa</td>\n",
       "    </tr>\n",
       "  </tbody>\n",
       "</table>\n",
       "</div>"
      ]
     },
     "metadata": {},
     "execution_count": 5
    }
   ],
   "metadata": {}
  },
  {
   "cell_type": "code",
   "execution_count": 6,
   "source": [
    "#EDA  Univariate Bivariate Multivariate\r\n",
    "\r\n",
    "\r\n",
    "#Univariate Analysis  Single feature\r\n",
    "df_setosa = irisDataset1.loc[irisDataset1[\"Species\"]==\"Iris-setosa\"]\r\n",
    "df_virginica = irisDataset1.loc[irisDataset1[\"Species\"]==\"Iris-virginica\"]\r\n",
    "df_versicolor = irisDataset1.loc[irisDataset1[\"Species\"]==\"Iris-versicolor\"]\r\n",
    "\r\n",
    "\r\n",
    "plt.plot(df_setosa[\"SepalLengthCm\"],np.zeros_like(df_setosa[\"SepalLengthCm\"]),'o')\r\n",
    "plt.plot(df_virginica[\"SepalLengthCm\"],np.zeros_like(df_setosa[\"SepalLengthCm\"]),'o')\r\n",
    "plt.plot(df_versicolor[\"SepalLengthCm\"],np.zeros_like(df_setosa[\"SepalLengthCm\"]),'o')\r\n",
    "plt.xlabel(\"SepalLengthCm\")\r\n",
    "plt.show()"
   ],
   "outputs": [
    {
     "output_type": "display_data",
     "data": {
      "text/plain": [
       "<Figure size 432x288 with 1 Axes>"
      ],
      "image/png": "[encoded data removed]"
     },
     "metadata": {
      "needs_background": "light"
     }
    }
   ],
   "metadata": {}
  },
  {
   "cell_type": "code",
   "execution_count": 11,
   "source": [
    "plt.hist(df_setosa[\"SepalLengthCm\"],bins=20)\r\n",
    "plt.hist(df_virginica[\"SepalLengthCm\"],bins=20)\r\n",
    "plt.hist(df_versicolor[\"SepalLengthCm\"],bins=20)\r\n",
    "plt.xlabel(\"SepalLengthCm\")\r\n",
    "plt.ylabel(\"Count\")\r\n",
    "plt.show()"
   ],
   "outputs": [
    {
     "output_type": "display_data",
     "data": {
      "text/plain": [
       "<Figure size 432x288 with 1 Axes>"
      ],
      "image/png": "[encoded data removed]"
     },
     "metadata": {
      "needs_background": "light"
     }
    }
   ],
   "metadata": {}
  },
  {
   "cell_type": "code",
   "execution_count": 26,
   "source": [
    "plt.plot(df_setosa[\"PetalLengthCm\"],np.zeros_like(df_setosa[\"PetalLengthCm\"]),'o')\r\n",
    "plt.plot(df_virginica[\"PetalLengthCm\"],np.zeros_like(df_setosa[\"PetalLengthCm\"]),'o')\r\n",
    "plt.plot(df_versicolor[\"PetalLengthCm\"],np.zeros_like(df_setosa[\"PetalLengthCm\"]),'o')\r\n",
    "plt.xlabel(\"PetalLengthCm\")\r\n",
    "plt.show()"
   ],
   "outputs": [
    {
     "output_type": "display_data",
     "data": {
      "text/plain": [
       "<Figure size 432x288 with 1 Axes>"
      ],
      "image/png": "[encoded data removed]"
     },
     "metadata": {
      "needs_background": "light"
     }
    }
   ],
   "metadata": {}
  },
  {
   "cell_type": "code",
   "execution_count": 29,
   "source": [
    "#BIivariate Analysis  Two feature\r\n",
    "import seaborn as sns\r\n",
    "\r\n",
    "sns.FacetGrid(irisDataset1,hue=\"Species\",size=5).map(plt.scatter,'PetalLengthCm','SepalLengthCm')"
   ],
   "outputs": [
    {
     "output_type": "stream",
     "name": "stderr",
     "text": [
      "D:\\Softwares\\Anaconda3\\envs\\ML\\lib\\site-packages\\seaborn\\axisgrid.py:316: UserWarning: The `size` parameter has been renamed to `height`; please update your code.\n",
      "  warnings.warn(msg, UserWarning)\n"
     ]
    },
    {
     "output_type": "execute_result",
     "data": {
      "text/plain": [
       "<seaborn.axisgrid.FacetGrid at 0x24bd9a72be0>"
      ]
     },
     "metadata": {},
     "execution_count": 29
    },
    {
     "output_type": "display_data",
     "data": {
      "text/plain": [
       "<Figure size 360x360 with 1 Axes>"
      ],
      "image/png": "[encoded data removed]"
     },
     "metadata": {
      "needs_background": "light"
     }
    }
   ],
   "metadata": {}
  },
  {
   "cell_type": "code",
   "execution_count": 30,
   "source": [
    "#Multiivariate Analysis  Moer than Two feature\r\n",
    "\r\n",
    "sns.pairplot(irisDataset1,hue=\"Species\",size=3)"
   ],
   "outputs": [
    {
     "output_type": "stream",
     "name": "stderr",
     "text": [
      "D:\\Softwares\\Anaconda3\\envs\\ML\\lib\\site-packages\\seaborn\\axisgrid.py:1969: UserWarning: The `size` parameter has been renamed to `height`; please update your code.\n",
      "  warnings.warn(msg, UserWarning)\n"
     ]
    }
   ],
   "metadata": {}
  },
  {
   "cell_type": "code",
   "execution_count": null,
   "source": [],
   "outputs": [],
   "metadata": {}
  },
  {
   "cell_type": "code",
   "execution_count": 15,
   "source": [
    "irisDataset1[\"Species\"].value_counts()"
   ],
   "outputs": [
    {
     "output_type": "execute_result",
     "data": {
      "text/plain": [
       "Iris-virginica     50\n",
       "Iris-versicolor    50\n",
       "Iris-setosa        50\n",
       "Name: Species, dtype: int64"
      ]
     },
     "metadata": {},
     "execution_count": 15
    }
   ],
   "metadata": {}
  },
  {
   "cell_type": "code",
   "execution_count": 10,
   "source": [
    "#now choose features to use sepel width and sepel width \r\n",
    "X = irisDataset1.iloc[:,[1,3]].values\r\n",
    "print(X)"
   ],
   "outputs": [
    {
     "output_type": "stream",
     "name": "stdout",
     "text": [
      "[[3.5 0.2]\n",
      " [3.  0.2]\n",
      " [3.2 0.2]\n",
      " [3.1 0.2]\n",
      " [3.6 0.2]\n",
      " [3.9 0.4]\n",
      " [3.4 0.3]\n",
      " [3.4 0.2]\n",
      " [2.9 0.2]\n",
      " [3.1 0.1]\n",
      " [3.7 0.2]\n",
      " [3.4 0.2]\n",
      " [3.  0.1]\n",
      " [3.  0.1]\n",
      " [4.  0.2]\n",
      " [4.4 0.4]\n",
      " [3.9 0.4]\n",
      " [3.5 0.3]\n",
      " [3.8 0.3]\n",
      " [3.8 0.3]\n",
      " [3.4 0.2]\n",
      " [3.7 0.4]\n",
      " [3.6 0.2]\n",
      " [3.3 0.5]\n",
      " [3.4 0.2]\n",
      " [3.  0.2]\n",
      " [3.4 0.4]\n",
      " [3.5 0.2]\n",
      " [3.4 0.2]\n",
      " [3.2 0.2]\n",
      " [3.1 0.2]\n",
      " [3.4 0.4]\n",
      " [4.1 0.1]\n",
      " [4.2 0.2]\n",
      " [3.1 0.1]\n",
      " [3.2 0.2]\n",
      " [3.5 0.2]\n",
      " [3.1 0.1]\n",
      " [3.  0.2]\n",
      " [3.4 0.2]\n",
      " [3.5 0.3]\n",
      " [2.3 0.3]\n",
      " [3.2 0.2]\n",
      " [3.5 0.6]\n",
      " [3.8 0.4]\n",
      " [3.  0.3]\n",
      " [3.8 0.2]\n",
      " [3.2 0.2]\n",
      " [3.7 0.2]\n",
      " [3.3 0.2]\n",
      " [3.2 1.4]\n",
      " [3.2 1.5]\n",
      " [3.1 1.5]\n",
      " [2.3 1.3]\n",
      " [2.8 1.5]\n",
      " [2.8 1.3]\n",
      " [3.3 1.6]\n",
      " [2.4 1. ]\n",
      " [2.9 1.3]\n",
      " [2.7 1.4]\n",
      " [2.  1. ]\n",
      " [3.  1.5]\n",
      " [2.2 1. ]\n",
      " [2.9 1.4]\n",
      " [2.9 1.3]\n",
      " [3.1 1.4]\n",
      " [3.  1.5]\n",
      " [2.7 1. ]\n",
      " [2.2 1.5]\n",
      " [2.5 1.1]\n",
      " [3.2 1.8]\n",
      " [2.8 1.3]\n",
      " [2.5 1.5]\n",
      " [2.8 1.2]\n",
      " [2.9 1.3]\n",
      " [3.  1.4]\n",
      " [2.8 1.4]\n",
      " [3.  1.7]\n",
      " [2.9 1.5]\n",
      " [2.6 1. ]\n",
      " [2.4 1.1]\n",
      " [2.4 1. ]\n",
      " [2.7 1.2]\n",
      " [2.7 1.6]\n",
      " [3.  1.5]\n",
      " [3.4 1.6]\n",
      " [3.1 1.5]\n",
      " [2.3 1.3]\n",
      " [3.  1.3]\n",
      " [2.5 1.3]\n",
      " [2.6 1.2]\n",
      " [3.  1.4]\n",
      " [2.6 1.2]\n",
      " [2.3 1. ]\n",
      " [2.7 1.3]\n",
      " [3.  1.2]\n",
      " [2.9 1.3]\n",
      " [2.9 1.3]\n",
      " [2.5 1.1]\n",
      " [2.8 1.3]\n",
      " [3.3 2.5]\n",
      " [2.7 1.9]\n",
      " [3.  2.1]\n",
      " [2.9 1.8]\n",
      " [3.  2.2]\n",
      " [3.  2.1]\n",
      " [2.5 1.7]\n",
      " [2.9 1.8]\n",
      " [2.5 1.8]\n",
      " [3.6 2.5]\n",
      " [3.2 2. ]\n",
      " [2.7 1.9]\n",
      " [3.  2.1]\n",
      " [2.5 2. ]\n",
      " [2.8 2.4]\n",
      " [3.2 2.3]\n",
      " [3.  1.8]\n",
      " [3.8 2.2]\n",
      " [2.6 2.3]\n",
      " [2.2 1.5]\n",
      " [3.2 2.3]\n",
      " [2.8 2. ]\n",
      " [2.8 2. ]\n",
      " [2.7 1.8]\n",
      " [3.3 2.1]\n",
      " [3.2 1.8]\n",
      " [2.8 1.8]\n",
      " [3.  1.8]\n",
      " [2.8 2.1]\n",
      " [3.  1.6]\n",
      " [2.8 1.9]\n",
      " [3.8 2. ]\n",
      " [2.8 2.2]\n",
      " [2.8 1.5]\n",
      " [2.6 1.4]\n",
      " [3.  2.3]\n",
      " [3.4 2.4]\n",
      " [3.1 1.8]\n",
      " [3.  1.8]\n",
      " [3.1 2.1]\n",
      " [3.1 2.4]\n",
      " [3.1 2.3]\n",
      " [2.7 1.9]\n",
      " [3.2 2.3]\n",
      " [3.3 2.5]\n",
      " [3.  2.3]\n",
      " [2.5 1.9]\n",
      " [3.  2. ]\n",
      " [3.4 2.3]\n",
      " [3.  1.8]]\n"
     ]
    }
   ],
   "metadata": {}
  },
  {
   "cell_type": "code",
   "execution_count": 13,
   "source": [
    "##using elbow method to determine WCSS of each cluster\r\n",
    "\r\n",
    "from sklearn.cluster import KMeans\r\n",
    "wcss = []\r\n",
    "for i in range(1,11):\r\n",
    "    #using k means techniquee to initiate\r\n",
    "    kmeans = KMeans(n_clusters = i, init= 'k-means++', random_state =42)\r\n",
    "    #fitting lenghts in the function\r\n",
    "    kmeans.fit(X)\r\n",
    "    #than saves these value in empty list\r\n",
    "    wcss.append(kmeans.inertia_)"
   ],
   "outputs": [],
   "metadata": {}
  },
  {
   "cell_type": "code",
   "execution_count": 14,
   "source": [
    "# now plot the elbow graph \r\n",
    "import seaborn as sns\r\n",
    "sns.set() # for better visualization\r\n",
    "\r\n",
    "plt.plot(range(1,11),wcss)\r\n",
    "plt.title(\"Elbow Graph\")\r\n",
    "plt.xlabel(\"Number of Clusters\")\r\n",
    "plt.ylabel(\"WCSS\")\r\n",
    "plt.show()"
   ],
   "outputs": [
    {
     "output_type": "display_data",
     "data": {
      "text/plain": [
       "<Figure size 432x288 with 1 Axes>"
      ],
      "image/png": "[encoded data removed]"
     },
     "metadata": {}
    }
   ],
   "metadata": {}
  },
  {
   "cell_type": "code",
   "execution_count": 18,
   "source": [
    "   \r\n",
    "#using k means again since now we know there are 3 clusters\r\n",
    "kmeans = KMeans(n_clusters = 3, init= 'k-means++', random_state =0)\r\n",
    "#fitting lenghts in the function also labeling each clusters\r\n",
    "y = kmeans.fit_predict(X)\r\n",
    "print(y)"
   ],
   "outputs": [
    {
     "output_type": "stream",
     "name": "stdout",
     "text": [
      "[0 0 0 0 0 0 0 0 0 0 0 0 0 0 0 0 0 0 0 0 0 0 0 0 0 0 0 0 0 0 0 0 0 0 0 0 0\n",
      " 0 0 0 0 2 0 0 0 0 0 0 0 0 2 2 2 2 2 2 1 2 2 2 2 2 2 2 2 2 2 2 2 2 1 2 2 2\n",
      " 2 2 2 1 2 2 2 2 2 2 2 1 2 2 2 2 2 2 2 2 2 2 2 2 2 2 1 1 1 1 1 1 2 1 2 1 1\n",
      " 1 1 1 1 1 1 1 1 2 1 1 1 1 1 1 1 1 1 2 1 1 1 2 2 1 1 1 1 1 1 1 1 1 1 1 1 1\n",
      " 1 1]\n"
     ]
    }
   ],
   "metadata": {}
  },
  {
   "cell_type": "code",
   "execution_count": 24,
   "source": [
    "# finally Visulaizing clusters\r\n",
    "#for cluster 0\r\n",
    "plt.scatter(X[y==0,0],X[y==0,1],s =50, c ='red', label = 'Cluster1')\r\n",
    "#for cluster 1\r\n",
    "plt.scatter(X[y==1,0],X[y==1,1],s =50, c ='blue', label = 'Cluster2') # all the vlaue of for whic y value is 1\r\n",
    "#for cluster 2\r\n",
    "plt.scatter(X[y==2,0],X[y==2,1],s =50, c ='yellow', label = 'Cluster3')\r\n",
    "\r\n",
    "#now to plot centroid which kmeans predict\r\n",
    "plt.scatter (kmeans.cluster_centers_[:,0],kmeans.cluster_centers_[:,1], s= 100, label = 'Centroids')\r\n",
    "\r\n",
    "plt.title(\"Iris Flower Cluster\")\r\n",
    "plt.xlabel('Sepel Width')\r\n",
    "plt.ylabel('Petel Width')\r\n",
    "plt.legend()# put labels in graph \r\n",
    "plt.show()"
   ],
   "outputs": [
    {
     "output_type": "display_data",
     "data": {
      "text/plain": [
       "<Figure size 432x288 with 1 Axes>"
      ],
      "image/png": "[encoded data removed]"
     },
     "metadata": {}
    }
   ],
   "metadata": {}
  },
  {
   "cell_type": "code",
   "execution_count": null,
   "source": [],
   "outputs": [],
   "metadata": {}
  }
 ],
 "metadata": {
  "kernelspec": {
   "name": "python3",
   "display_name": "Python 3.8.10 64-bit ('ML': conda)"
  },
  "language_info": {
   "codemirror_mode": {
    "name": "ipython",
    "version": 3
   },
   "file_extension": ".py",
   "mimetype": "text/x-python",
   "name": "python",
   "nbconvert_exporter": "python",
   "pygments_lexer": "ipython3",
   "version": "3.8.10"
  },
  "interpreter": {
   "hash": "1945a63b946836845dc7c99a69bf0daa7fc458fc6781c986fde96f2b7ac38211"
  }
 },
 "nbformat": 4,
 "nbformat_minor": 4
}