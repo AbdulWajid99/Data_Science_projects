{
 "cells": [
  {
   "cell_type": "code",
   "execution_count": 1,
   "metadata": {},
   "outputs": [],
   "source": [
    "#importing libararies\n",
    "import yfinance as yf #to get stock data\n",
    "import streamlit as st\n",
    "import pandas as pd"
   ]
  },
  {
   "cell_type": "code",
   "execution_count": 2,
   "metadata": {},
   "outputs": [
    {
     "name": "stderr",
     "output_type": "stream",
     "text": [
      "2021-02-16 09:19:22.598 WARNING root: \n",
      "  \u001b[33m\u001b[1mWarning:\u001b[0m to view this Streamlit app on a browser, run it with the following\n",
      "  command:\n",
      "\n",
      "    streamlit run C:\\Users\\MAVERICK\\anaconda3\\envs\\datascience\\lib\\site-packages\\ipykernel_launcher.py [ARGUMENTS]\n"
     ]
    }
   ],
   "source": [
    "#header for webiste in markdown language\n",
    "st.write(\"\"\"\n",
    "# Simple Stock Price App\n",
    "Shown are the stock closing price and volume of Google!\n",
    "\"\"\")"
   ]
  },
  {
   "cell_type": "code",
   "execution_count": 3,
   "metadata": {},
   "outputs": [],
   "source": [
    "#Source:\n",
    "# https://towardsdatascience.com/how-to-get-stock-data-using-python-c0de1df17e75\n",
    "\n",
    "#define the ticker symbol\n",
    "tickerSymbol = 'GOOGL' # for google"
   ]
  },
  {
   "cell_type": "code",
   "execution_count": 5,
   "metadata": {},
   "outputs": [
    {
     "name": "stdout",
     "output_type": "stream",
     "text": [
      "yfinance.Ticker object <GOOGL>\n"
     ]
    }
   ],
   "source": [
    "#get data on this ticker\n",
    "tickerData = yf.Ticker(tickerSymbol)"
   ]
  },
  {
   "cell_type": "code",
   "execution_count": 7,
   "metadata": {},
   "outputs": [
    {
     "name": "stdout",
     "output_type": "stream",
     "text": [
      "                   Open         High          Low        Close   Volume  \\\n",
      "Date                                                                      \n",
      "2010-06-01   240.455460   245.775772   240.300293   241.426422  5328266   \n",
      "2010-06-02   243.583588   247.182175   240.970978   246.931931  5076518   \n",
      "2010-06-03   247.802795   254.254257   247.597595   253.053055  7294099   \n",
      "2010-06-04   250.110107   254.879883   248.598602   249.609604  7832759   \n",
      "2010-06-07   249.779785   250.705704   241.816818   243.003006  7258135   \n",
      "...                 ...          ...          ...          ...      ...   \n",
      "2021-02-08  2100.000000  2115.000000  2063.350098  2084.520020  1441400   \n",
      "2021-02-09  2074.800049  2098.510010  2070.000000  2075.389893  1094600   \n",
      "2021-02-10  2083.139893  2098.879883  2052.239990  2086.479980  1255100   \n",
      "2021-02-11  2091.000000  2094.000000  2068.860107  2088.750000  1021200   \n",
      "2021-02-12  2079.770020  2099.500000  2073.570068  2095.030029   948500   \n",
      "\n",
      "            Dividends  Stock Splits  \n",
      "Date                                 \n",
      "2010-06-01          0           0.0  \n",
      "2010-06-02          0           0.0  \n",
      "2010-06-03          0           0.0  \n",
      "2010-06-04          0           0.0  \n",
      "2010-06-07          0           0.0  \n",
      "...               ...           ...  \n",
      "2021-02-08          0           0.0  \n",
      "2021-02-09          0           0.0  \n",
      "2021-02-10          0           0.0  \n",
      "2021-02-11          0           0.0  \n",
      "2021-02-12          0           0.0  \n",
      "\n",
      "[2696 rows x 7 columns]\n"
     ]
    }
   ],
   "source": [
    "#retreive the historical prices for google ticker\n",
    "tickerDf = tickerData.history(period='1d', start='2010-5-31', end='2021-2-14')\n",
    "print(tickerDf)"
   ]
  },
  {
   "cell_type": "code",
   "execution_count": 8,
   "metadata": {},
   "outputs": [
    {
     "data": {
      "text/plain": [
       "<streamlit.delta_generator.DeltaGenerator at 0x159295becd0>"
      ]
     },
     "execution_count": 8,
     "metadata": {},
     "output_type": "execute_result"
    }
   ],
   "source": [
    "st.line_chart(tickerDf.Close)\n",
    "st.line_chart(tickerDf.Volume)"
   ]
  },
  {
   "cell_type": "code",
   "execution_count": null,
   "metadata": {},
   "outputs": [],
   "source": []
  }
 ],
 "metadata": {
  "kernelspec": {
   "display_name": "DataScience",
   "language": "python",
   "name": "datascience"
  },
  "language_info": {
   "codemirror_mode": {
    "name": "ipython",
    "version": 3
   },
   "file_extension": ".py",
   "mimetype": "text/x-python",
   "name": "python",
   "nbconvert_exporter": "python",
   "pygments_lexer": "ipython3",
   "version": "3.8.5"
  }
 },
 "nbformat": 4,
 "nbformat_minor": 4
}
